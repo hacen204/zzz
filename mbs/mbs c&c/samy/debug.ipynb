{
 "cells": [
  {
   "cell_type": "code",
   "execution_count": 1,
   "metadata": {},
   "outputs": [],
   "source": [
    "import pandas as pd\n",
    "import numpy as np\n",
    "import matplotlib.pyplot as plt\n",
    "from datetime import datetime, timedelta\n",
    "from IPython.display import display"
   ]
  },
  {
   "cell_type": "code",
   "execution_count": 2,
   "metadata": {},
   "outputs": [],
   "source": [
    "\n",
    "def get_valid_days(df_month, max_days=2):\n",
    "    \"\"\"\n",
    "    Retourne les deux premiers jours valides parmi 13, 12, 11, 10\n",
    "    \n",
    "    Args:\n",
    "        df_month: DataFrame contenant les données d'un mois\n",
    "        max_days: Nombre maximum de jours à retourner (par défaut: 2)\n",
    "        \n",
    "    Returns:\n",
    "        list: Liste des jours valides (maximum max_days)\n",
    "    \"\"\"\n",
    "    valid_days = []\n",
    "    days_to_check = [13, 12, 11, 10]  # Jours à vérifier\n",
    "    \n",
    "    unique_days = df_month['Date'].dt.day.unique()\n",
    "    \n",
    "    for day in days_to_check:\n",
    "        if day in unique_days:\n",
    "            valid_days.append(day)\n",
    "            if len(valid_days) >= max_days:\n",
    "                break\n",
    "                \n",
    "    return valid_days"
   ]
  },
  {
   "cell_type": "code",
   "execution_count": 3,
   "metadata": {},
   "outputs": [],
   "source": [
    "input_file = \"TBA_database_reduced.csv\"  # Remplacer par votre chemin d'entrée\n",
    "output_file = \"net_basis_results.csv\"    # Remplacer par votre chemin de sortie\n",
    "\n",
    "df = pd.read_csv(input_file)"
   ]
  },
  {
   "cell_type": "code",
   "execution_count": 4,
   "metadata": {},
   "outputs": [
    {
     "name": "stdout",
     "output_type": "stream",
     "text": [
      "Traitement des données par mois...\n"
     ]
    }
   ],
   "source": [
    "df.replace('#N/A N/A', np.nan, inplace=True)\n",
    "\n",
    "# Convertir la colonne Date au format datetime si nécessaire\n",
    "if not pd.api.types.is_datetime64_any_dtype(df['Date']):\n",
    "    df['Date'] = pd.to_datetime(df['Date'], format='%m/%d/%y')\n",
    "\n",
    "df['CPR_Dynamic'] = 10 #df.apply(lambda row: calculate_cpr(row['Coupon'], row['Mortgage rate']), axis=1)\n",
    "\n",
    "# Liste pour stocker les résultats\n",
    "results = []\n",
    "\n",
    "# Dictionnaire pour stocker les résultats temporaires (pour le lissage sur deux jours)\n",
    "temp_results = {}\n",
    "\n",
    "# Regrouper par mois pour le traitement des jours valides\n",
    "df_by_month = df.groupby(df['Date'].dt.to_period('M'))\n",
    "\n",
    "print(\"Traitement des données par mois...\")"
   ]
  },
  {
   "cell_type": "code",
   "execution_count": 29,
   "metadata": {},
   "outputs": [],
   "source": [
    "period, df_month  = list(iter(df_by_month))[1]"
   ]
  },
  {
   "cell_type": "code",
   "execution_count": 30,
   "metadata": {},
   "outputs": [
    {
     "data": {
      "text/plain": [
       "Period('2015-02', 'M')"
      ]
     },
     "execution_count": 30,
     "metadata": {},
     "output_type": "execute_result"
    }
   ],
   "source": [
    "period"
   ]
  },
  {
   "cell_type": "code",
   "execution_count": 32,
   "metadata": {},
   "outputs": [],
   "source": [
    "# Déterminer les jours valides pour ce mois\n",
    "valid_days = get_valid_days(df_month, max_days=2)\n",
    "\n",
    "valid_days\n",
    "\n",
    "roll_date = valid_days[0]\n",
    "\n",
    "# Filtrer les données pour ce jour\n",
    "df_roll_date = df_month[df_month['Date'].dt.day == roll_date]\n",
    "\n",
    "\n",
    "row = df_roll_date.iloc[0]\n",
    "\n",
    "date = row['Date']\n",
    "repo_rate = row['Real repo']\n",
    "\n",
    "# Déterminer la CPR à utiliser\n",
    "coupon_value = row['Coupon']\n",
    "cpr_column = f\"CPR Realized {coupon_value}\"\n",
    "\n",
    "if cpr_column in df.columns and pd.notna(row[cpr_column]):\n",
    "    cpr_realized = row[cpr_column]\n",
    "else:\n",
    "    cpr_realized = row['CPR_Dynamic']\n",
    "\n",
    "cpr_model = row['CPR_Dynamic']\n",
    "\n",
    "# Traiter les mois disponibles\n",
    "months = ['Jan', 'Feb', 'Mar', 'Apr', 'May', 'Jun', 'Jul', 'Aug', 'Sep', 'Oct', 'Nov', 'Dec']"
   ]
  },
  {
   "cell_type": "code",
   "execution_count": 35,
   "metadata": {},
   "outputs": [
    {
     "name": "stdout",
     "output_type": "stream",
     "text": [
      "Feb\n"
     ]
    }
   ],
   "source": [
    "# 1. Traiter le net basis \"current\"\n",
    "for i in range(len(months) - 1):\n",
    "    current_month = months[i]\n",
    "    next_month = months[i + 1]\n",
    "    \n",
    "    if pd.notna(row[current_month]) and pd.notna(row[next_month]):\n",
    "        print(current_month)\n",
    "        break"
   ]
  },
  {
   "cell_type": "code",
   "execution_count": null,
   "metadata": {},
   "outputs": [
    {
     "data": {
      "text/plain": [
       "(Timestamp('2015-02-13 00:00:00'),\n",
       " 1.13551,\n",
       " np.float64(6.0),\n",
       " np.float64(0.12),\n",
       " np.float64(0.23),\n",
       " 13)"
      ]
     },
     "execution_count": 36,
     "metadata": {},
     "output_type": "execute_result"
    }
   ],
   "source": [
    "\n",
    "# Convertir les prix en décimal\n",
    "current_price = float(row[current_month]) / 100\n",
    "next_price = float(row[next_month]) / 100\n",
    "\n",
    "date, current_price, coupon_value, repo_rate, cpr_realized, roll_date\n"
   ]
  },
  {
   "cell_type": "code",
   "execution_count": null,
   "metadata": {},
   "outputs": [
    {
     "data": {
      "text/plain": [
       "0        0.12\n",
       "1        0.12\n",
       "2        0.12\n",
       "3        0.12\n",
       "4        0.12\n",
       "         ... \n",
       "23185    4.33\n",
       "23186    4.33\n",
       "23187    4.33\n",
       "23188    4.33\n",
       "23189    4.33\n",
       "Name: Real repo, Length: 23190, dtype: float64"
      ]
     },
     "execution_count": 43,
     "metadata": {},
     "output_type": "execute_result"
    },
    {
     "ename": "",
     "evalue": "",
     "output_type": "error",
     "traceback": [
      "\u001b[1;31mThe Kernel crashed while executing code in the current cell or a previous cell. \n",
      "\u001b[1;31mPlease review the code in the cell(s) to identify a possible cause of the failure. \n",
      "\u001b[1;31mClick <a href='https://aka.ms/vscodeJupyterKernelCrash'>here</a> for more info. \n",
      "\u001b[1;31mView Jupyter <a href='command:jupyter.viewOutput'>log</a> for further details."
     ]
    }
   ],
   "source": [
    "df['Real repo']"
   ]
  },
  {
   "cell_type": "code",
   "execution_count": null,
   "metadata": {},
   "outputs": [],
   "source": []
  }
 ],
 "metadata": {
  "kernelspec": {
   "display_name": "global",
   "language": "python",
   "name": "python3"
  },
  "language_info": {
   "codemirror_mode": {
    "name": "ipython",
    "version": 3
   },
   "file_extension": ".py",
   "mimetype": "text/x-python",
   "name": "python",
   "nbconvert_exporter": "python",
   "pygments_lexer": "ipython3",
   "version": "3.12.8"
  }
 },
 "nbformat": 4,
 "nbformat_minor": 2
}
