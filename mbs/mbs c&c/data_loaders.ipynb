{
 "cells": [
  {
   "cell_type": "code",
   "execution_count": 3,
   "metadata": {},
   "outputs": [],
   "source": [
    "from datetime import datetime, timedelta\n",
    "from dateutil.relativedelta import relativedelta\n",
    "from xbbg import blp\n",
    "import pandas as pd\n",
    "import os\n",
    "import numpy as np\n",
    "\n",
    "\n",
    "def load_mtg_data(path):\n",
    "    # necessite une copie sur clipboard\n",
    "    mtg_rate = pd.read_clipboard(index_col=0, parse_dates=True, dayfirst=True)\n",
    "    i1 = list(mtg_rate.index[:1629].map(lambda x : pd.to_datetime(x, format='%d/%m/%Y')))\n",
    "    i2 = list(mtg_rate.index[1629:].map(lambda x : pd.to_datetime(x, format='%m/%d/%Y')))\n",
    "    mtg_rate.index = i1 + i2\n",
    "    mtg_rate.to_csv(f'{path}/mtg_rate.csv')\n",
    "\n",
    "\n",
    "def generate_cusips(coupon: float, tba_symbol: str, start_month: str):\n",
    "    \"\"\"\n",
    "    Generate all FNCL mortgage CUSIPs from the start month to today plus three additional months.\n",
    "    \n",
    "    :param coupon: Coupon rate (e.g., 4 for 4%)\n",
    "    :param tba_symbol: TBA symbol (e.g., 'FNCL')\n",
    "    :param start_month: Start month in the format 'MM/YY' (e.g., '06/25')\n",
    "    :return: List of CUSIP strings\n",
    "    \"\"\"\n",
    "    # Parse the start date\n",
    "    start_date = datetime.strptime(start_month, \"%m/%y\")\n",
    "    # Get the current month plus three additional months\n",
    "    current_date = datetime.today() + relativedelta(months=3)\n",
    "    \n",
    "    cusips = []\n",
    "    \n",
    "    # Generate CUSIPs for each month from start date to today + 3 months\n",
    "    while start_date <= current_date:\n",
    "        # Format date as MM/YY\n",
    "        month_year = start_date.strftime(\"%m/%y\")\n",
    "        # Create CUSIP string\n",
    "        cusip = f\"{tba_symbol} {coupon} {month_year} Mtge\"\n",
    "        cusips.append(cusip)\n",
    "        # Move to the next month\n",
    "        start_date += relativedelta(months=1)\n",
    "    \n",
    "    return cusips\n",
    "\n",
    "\n",
    "def get_first_settle_dates(cusips):\n",
    "    \"\"\"\n",
    "    Retrieve FIRST_SETTLE_DT for the given CUSIPs using Bloomberg data.\n",
    "    \n",
    "    :param cusips: List of CUSIP strings\n",
    "    :return: Pandas Series with CUSIPs as index and FIRST_SETTLE_DT as values\n",
    "    \"\"\"\n",
    "    data = blp.bdp(cusips, \"first_settle_dt\")\n",
    "    data = data.sort_index(key=lambda x: pd.to_datetime(x.str.split(\" \").str[2], format=\"%m/%y\"))\n",
    "    return data['first_settle_dt']\n",
    "\n",
    "\n",
    "def load_tba_prices(tba_symbol, coupon):\n",
    "    \"\"\"\n",
    "    Load TBA prices for each contract three months prior to its settlement date.\n",
    "\n",
    "    :param tba_symbol: The TBA symbol (e.g., 'FNCL')\n",
    "    :param coupon: New coupon rate for which we want to load prices\n",
    "    \"\"\"\n",
    "    settle_dates = read_settle_dates(tba_symbol)  # Read settle dates inside the function\n",
    "    output_dir = f\"MBS_DATA/{tba_symbol}/{coupon:.1f}\"\n",
    "    os.makedirs(output_dir, exist_ok=True)\n",
    "    output_path = os.path.join(output_dir, \"prices.csv\")\n",
    "\n",
    "    price_data = pd.DataFrame()\n",
    "    today = pd.Timestamp.today().normalize()\n",
    "\n",
    "    for i in range(len(settle_dates)):\n",
    "        original_tba = settle_dates.index[i]\n",
    "\n",
    "        # Modify the CUSIP to reflect the new coupon\n",
    "        parts = original_tba.split(\" \")\n",
    "        if len(parts) >= 3:\n",
    "            parts[1] = str(coupon)  # Replace the coupon value\n",
    "            new_tba = \" \".join(parts)\n",
    "        else:\n",
    "            continue  # Skip if format is unexpected\n",
    "\n",
    "        end_date = min(settle_dates.iloc[i], today)  # Ensure end_date is not in the future\n",
    "        start_date = settle_dates.iloc[i - 3] if i - 3 >= 0 else settle_dates.iloc[0]\n",
    "        start_date = start_date - pd.offsets.BDay(10)\n",
    "\n",
    "        prices = blp.bdh(tickers=new_tba, flds=[\"PX_MID\"], start_date=start_date, end_date=end_date, Per='D', calendarCodeOverride='US')\n",
    "\n",
    "        if not prices.empty:\n",
    "            prices = prices.droplevel(1, axis=1)  # Remove second level of multi-index columns\n",
    "            price_data = price_data.join(prices, how='outer')  # Merge on index\n",
    "\n",
    "    price_data.to_csv(output_path)\n",
    "    print(f\"Prices saved to {output_path}\")\n",
    "\n",
    "\n",
    "def read_tba_prices(tba_symbol = \"FNCL\", coupon= 4):\n",
    "    \"\"\"\n",
    "    Read TBA prices from the stored CSV file.\n",
    "    \n",
    "    :param coupon: Coupon rate to differentiate storage location\n",
    "    :return: Pandas DataFrame with indexed dates and TBA prices\n",
    "    \"\"\"\n",
    "    \n",
    "    file_path = f\"MBS_DATA/{tba_symbol}/{coupon:.1f}/prices.csv\"\n",
    "    if os.path.exists(file_path):\n",
    "        return pd.read_csv(file_path, index_col=0, parse_dates=True)\n",
    "    else:\n",
    "        print(f\"File {file_path} does not exist.\")\n",
    "        return None\n",
    "    \n",
    "\n",
    "def read_settle_dates(tba_symbol = 'FNCL'):\n",
    "    \"\"\"\n",
    "    Read settle dates from the saved CSV file and return as a pandas Series.\n",
    "\n",
    "    :return: Pandas Series with TBA names as index and settlement dates as values.\n",
    "    \"\"\"\n",
    "    settle_dates_path = f\"MBS_DATA/{tba_symbol}/settle_dates.csv\"\n",
    "    if os.path.exists(settle_dates_path):\n",
    "        df = pd.read_csv(settle_dates_path, index_col=0, parse_dates=[1])\n",
    "        return df.iloc[:, 0]  # Convert DataFrame column to Series\n",
    "    else:\n",
    "        raise FileNotFoundError(f\"Settle dates file not found at {settle_dates_path}\")\n",
    "    \n",
    "\n",
    "def find_unexpected_nans(price_data, settle_dates):\n",
    "    \"\"\"\n",
    "    Identify unexpected NaNs in each column of the price data.\n",
    "    An unexpected NaN is defined as a missing value in a period where prices were expected to exist.\n",
    "    \n",
    "    :param price_data: DataFrame containing TBA prices with dates as index\n",
    "    :param settle_dates: Series with TBA names as index and settlement dates as values\n",
    "    :return: Series with count of unexpected NaNs per column\n",
    "    \"\"\"\n",
    "    unexpected_nans = {}\n",
    "    today = pd.Timestamp.today().normalize()\n",
    "    coupon = float(price_data.columns[0].split()[1])\n",
    "    for i in range(len(settle_dates)):\n",
    "\n",
    "        original_tba = settle_dates.index[i]\n",
    "        # Modify the CUSIP to reflect the new coupon\n",
    "        parts = original_tba.split(\" \")\n",
    "        if len(parts) >= 3:\n",
    "            parts[1] = str(coupon)  # Replace the coupon value\n",
    "            tba = \" \".join(parts)\n",
    "        else:\n",
    "            continue  # Skip if format is unexpected\n",
    "\n",
    "        if tba not in price_data.columns:\n",
    "            continue\n",
    "        \n",
    "        end_date = min(settle_dates.iloc[i], today)  # Ensure end_date is not in the future\n",
    "        start_date = settle_dates.iloc[i - 1] if i - 1 >= 0 else settle_dates.iloc[0]\n",
    "        \n",
    "        series = price_data[tba]\n",
    "        expected_nan_mask = series.isna()\n",
    "        \n",
    "        # Identify unexpected NaNs only within the expected valid range\n",
    "        unexpected_nan_mask = expected_nan_mask[start_date:end_date]\n",
    "        percentage_nans = unexpected_nan_mask.sum()/len(unexpected_nan_mask)*100\n",
    "        unexpected_nans[tba] = [round(percentage_nans,2), start_date, end_date]\n",
    "    \n",
    "    unexpected_nans = pd.DataFrame(unexpected_nans).T\n",
    "    unexpected_nans.columns = ['nans', 'start_date', 'end_date']\n",
    "    return unexpected_nans\n",
    "\n"
   ]
  },
  {
   "cell_type": "markdown",
   "metadata": {},
   "source": [
    "## load data"
   ]
  },
  {
   "cell_type": "code",
   "execution_count": 4,
   "metadata": {},
   "outputs": [],
   "source": [
    "tba_symbol = \"FNCL\"\n",
    "start_month = \"01/10\"\n",
    "coupon = 4"
   ]
  },
  {
   "cell_type": "code",
   "execution_count": 5,
   "metadata": {},
   "outputs": [
    {
     "name": "stdout",
     "output_type": "stream",
     "text": [
      "Settle dates saved to MBS_DATA/FNCL\\settle_dates.csv\n"
     ]
    }
   ],
   "source": [
    "# Generate CUSIPs\n",
    "cusips = generate_cusips(4, tba_symbol, start_month)\n",
    "# Get settlement dates\n",
    "settle_dates = get_first_settle_dates(cusips)\n",
    "\n",
    "\n",
    "# Ensure directory exists\n",
    "output_dir = f\"MBS_DATA/{tba_symbol}\"\n",
    "os.makedirs(output_dir, exist_ok=True)\n",
    "output_path = os.path.join(output_dir, \"settle_dates.csv\")\n",
    "\n",
    "# Save to CSV\n",
    "settle_dates.to_csv(output_path)\n",
    "\n",
    "print(f\"Settle dates saved to {output_path}\")"
   ]
  },
  {
   "cell_type": "code",
   "execution_count": 3,
   "metadata": {},
   "outputs": [],
   "source": [
    "tba_symbol = \"FNCL\"\n",
    "ALL_CPNS = np.arange(2.5, 7.5, 0.5)"
   ]
  },
  {
   "cell_type": "code",
   "execution_count": 6,
   "metadata": {},
   "outputs": [
    {
     "name": "stdout",
     "output_type": "stream",
     "text": [
      "Prices saved to MBS_DATA/FNCL/2.0\\prices.csv\n"
     ]
    }
   ],
   "source": [
    "for c in [2] : \n",
    "    # Load TBA prices\n",
    "    load_tba_prices(tba_symbol, coupon = c)"
   ]
  },
  {
   "cell_type": "code",
   "execution_count": null,
   "metadata": {},
   "outputs": [],
   "source": []
  },
  {
   "cell_type": "code",
   "execution_count": null,
   "metadata": {},
   "outputs": [
    {
     "name": "stdout",
     "output_type": "stream",
     "text": [
      "Settle dates saved to MBS_DATA/G2SF\\settle_dates.csv\n"
     ]
    }
   ],
   "source": [
    "tba_symbol = \"G2SF\"\n",
    "start_month = \"01/10\"\n",
    "coupon = 4\n",
    "\n",
    "# Generate CUSIPs\n",
    "cusips = generate_cusips(4, tba_symbol, start_month)\n",
    "# Get settlement dates\n",
    "settle_dates = get_first_settle_dates(cusips)\n",
    "\n",
    "\n",
    "# Ensure directory exists\n",
    "output_dir = f\"MBS_DATA/{tba_symbol}\"\n",
    "os.makedirs(output_dir, exist_ok=True)\n",
    "output_path = os.path.join(output_dir, \"settle_dates.csv\")\n",
    "\n",
    "# Save to CSV\n",
    "settle_dates.to_csv(output_path)\n",
    "\n",
    "print(f\"Settle dates saved to {output_path}\")"
   ]
  },
  {
   "cell_type": "code",
   "execution_count": null,
   "metadata": {},
   "outputs": [
    {
     "name": "stdout",
     "output_type": "stream",
     "text": [
      "Prices saved to MBS_DATA/G2SF/2.5\\prices.csv\n",
      "Prices saved to MBS_DATA/G2SF/3.0\\prices.csv\n",
      "Prices saved to MBS_DATA/G2SF/3.5\\prices.csv\n",
      "Prices saved to MBS_DATA/G2SF/4.0\\prices.csv\n",
      "Prices saved to MBS_DATA/G2SF/4.5\\prices.csv\n",
      "Prices saved to MBS_DATA/G2SF/5.0\\prices.csv\n",
      "Prices saved to MBS_DATA/G2SF/5.5\\prices.csv\n",
      "Prices saved to MBS_DATA/G2SF/6.0\\prices.csv\n",
      "Prices saved to MBS_DATA/G2SF/6.5\\prices.csv\n",
      "Prices saved to MBS_DATA/G2SF/7.0\\prices.csv\n"
     ]
    }
   ],
   "source": [
    "tba_symbol = \"G2SF\"\n",
    "ALL_CPNS = np.arange(2.5, 7.5, 0.5)\n",
    "\n",
    "for c in ALL_CPNS : \n",
    "  \n",
    "    # Load TBA prices\n",
    "    load_tba_prices(tba_symbol, coupon = c)"
   ]
  },
  {
   "cell_type": "markdown",
   "metadata": {},
   "source": [
    "### load_cprs"
   ]
  },
  {
   "cell_type": "code",
   "execution_count": null,
   "metadata": {},
   "outputs": [],
   "source": [
    "tba_symbol = \"FNCL\"\n",
    "ALL_CPNS = np.arange(2.5, 7.5, 0.5)\n",
    "\n",
    "\n",
    "date = pd.Timestamp.today()\n",
    "\n",
    "cusips = []\n",
    "\n",
    "# Generate CUSIPs for each month from start date to today + 3 months\n",
    "for coupon in ALL_CPNS :\n",
    "    # Format date as MM/YY\n",
    "    month_year = date.strftime(\"%m/%y\")\n",
    "    # Create CUSIP string\n",
    "    cusip = f\"{tba_symbol} {coupon} {month_year} Mtge\"\n",
    "    cusips.append(cusip)\n",
    "\n",
    "settle_dates = read_settle_dates(tba_symbol)\n",
    "\n",
    "cprs = blp.bdh(tickers=cusips, flds=[\"MTG_PL_CPR_1M\"], \n",
    "               start_date=settle_dates.iloc[0], end_date=date, Per='D', \n",
    "               calendarCodeOverride='US')\n",
    "\n",
    "cprs.columns = ALL_CPNS\n",
    "# Ensure directory exists\n",
    "output_dir = f\"MBS_DATA/{tba_symbol}\"\n",
    "os.makedirs(output_dir, exist_ok=True)\n",
    "output_path = os.path.join(output_dir, \"cprs.csv\")\n",
    "\n",
    "# Save to CSV\n",
    "cprs.to_csv(output_path)\n",
    "\n",
    "print(f\"cprs saved to {output_path}\")"
   ]
  },
  {
   "cell_type": "code",
   "execution_count": null,
   "metadata": {},
   "outputs": [],
   "source": []
  },
  {
   "cell_type": "code",
   "execution_count": null,
   "metadata": {},
   "outputs": [
    {
     "name": "stdout",
     "output_type": "stream",
     "text": [
      "cprs saved to MBS_DATA/G2SF\\cprs.csv\n"
     ]
    }
   ],
   "source": [
    "tba_symbol = \"G2SF\"\n",
    "ALL_CPNS = np.arange(2.5, 7.5, 0.5)\n",
    "\n",
    "\n",
    "date = pd.Timestamp.today()\n",
    "\n",
    "cusips = []\n",
    "\n",
    "# Generate CUSIPs for each month from start date to today + 3 months\n",
    "for coupon in ALL_CPNS :\n",
    "    # Format date as MM/YY\n",
    "    month_year = date.strftime(\"%m/%y\")\n",
    "    # Create CUSIP string\n",
    "    cusip = f\"{tba_symbol} {coupon} {month_year} Mtge\"\n",
    "    cusips.append(cusip)\n",
    "\n",
    "settle_dates = read_settle_dates(tba_symbol)\n",
    "\n",
    "cprs = blp.bdh(tickers=cusips, flds=[\"MTG_PL_CPR_1M\"], \n",
    "               start_date=settle_dates.iloc[0], end_date=date, Per='D', \n",
    "               calendarCodeOverride='US')\n",
    "\n",
    "\n",
    "cprs.columns = ALL_CPNS\n",
    "# Ensure directory exists\n",
    "output_dir = f\"MBS_DATA/{tba_symbol}\"\n",
    "os.makedirs(output_dir, exist_ok=True)\n",
    "output_path = os.path.join(output_dir, \"cprs.csv\")\n",
    "\n",
    "\n",
    "# Save to CSV\n",
    "cprs.to_csv(output_path)\n",
    "\n",
    "print(f\"cprs saved to {output_path}\")"
   ]
  },
  {
   "cell_type": "markdown",
   "metadata": {},
   "source": [
    "## check nans"
   ]
  },
  {
   "cell_type": "code",
   "execution_count": null,
   "metadata": {},
   "outputs": [],
   "source": [
    "# Read prices for FNCL 4\n",
    "tba_symbol = \"G2SF\"\n",
    "\n",
    "# Read settle dates using the new function\n",
    "settle_dates = read_settle_dates(tba_symbol)\n",
    "\n",
    "for coupon in ALL_CPNS : \n",
    "    prices = read_tba_prices(tba_symbol, coupon)\n",
    "    if prices is not None:\n",
    "        unexpected_nans = find_unexpected_nans(prices, settle_dates)\n",
    "        print(coupon)\n",
    "        display(unexpected_nans[unexpected_nans['nans'] > 0])"
   ]
  },
  {
   "cell_type": "markdown",
   "metadata": {},
   "source": [
    "## update data "
   ]
  },
  {
   "cell_type": "code",
   "execution_count": 42,
   "metadata": {},
   "outputs": [
    {
     "name": "stdout",
     "output_type": "stream",
     "text": [
      "2.5\n"
     ]
    },
    {
     "name": "stderr",
     "output_type": "stream",
     "text": [
      "100%|██████████| 148/148 [00:47<00:00,  3.09it/s]\n"
     ]
    },
    {
     "name": "stdout",
     "output_type": "stream",
     "text": [
      "3.0\n"
     ]
    },
    {
     "name": "stderr",
     "output_type": "stream",
     "text": [
      "100%|██████████| 159/159 [00:57<00:00,  2.76it/s]\n"
     ]
    },
    {
     "name": "stdout",
     "output_type": "stream",
     "text": [
      "3.5\n"
     ]
    },
    {
     "name": "stderr",
     "output_type": "stream",
     "text": [
      "100%|██████████| 179/179 [00:58<00:00,  3.05it/s]\n"
     ]
    },
    {
     "name": "stdout",
     "output_type": "stream",
     "text": [
      "4.0\n"
     ]
    },
    {
     "name": "stderr",
     "output_type": "stream",
     "text": [
      "100%|██████████| 180/180 [00:55<00:00,  3.25it/s]\n"
     ]
    },
    {
     "name": "stdout",
     "output_type": "stream",
     "text": [
      "4.5\n"
     ]
    },
    {
     "name": "stderr",
     "output_type": "stream",
     "text": [
      "100%|██████████| 180/180 [00:59<00:00,  3.04it/s]\n"
     ]
    },
    {
     "name": "stdout",
     "output_type": "stream",
     "text": [
      "5.0\n"
     ]
    },
    {
     "name": "stderr",
     "output_type": "stream",
     "text": [
      "100%|██████████| 166/166 [00:52<00:00,  3.14it/s]\n"
     ]
    },
    {
     "name": "stdout",
     "output_type": "stream",
     "text": [
      "5.5\n"
     ]
    },
    {
     "name": "stderr",
     "output_type": "stream",
     "text": [
      "100%|██████████| 145/145 [00:52<00:00,  2.78it/s]\n"
     ]
    },
    {
     "name": "stdout",
     "output_type": "stream",
     "text": [
      "6.0\n"
     ]
    },
    {
     "name": "stderr",
     "output_type": "stream",
     "text": [
      "100%|██████████| 141/141 [00:47<00:00,  2.98it/s]\n"
     ]
    },
    {
     "name": "stdout",
     "output_type": "stream",
     "text": [
      "6.5\n"
     ]
    },
    {
     "name": "stderr",
     "output_type": "stream",
     "text": [
      "100%|██████████| 133/133 [00:42<00:00,  3.11it/s]\n"
     ]
    },
    {
     "name": "stdout",
     "output_type": "stream",
     "text": [
      "7.0\n"
     ]
    },
    {
     "name": "stderr",
     "output_type": "stream",
     "text": [
      "100%|██████████| 81/81 [00:24<00:00,  3.24it/s]\n"
     ]
    }
   ],
   "source": [
    "from tqdm import tqdm\n",
    "tba_symbol = \"G2SF\"\n",
    "\n",
    "ALL_CPNS = np.arange(2.5, 7.5, 0.5)\n",
    "for coupon in ALL_CPNS :\n",
    "        print(coupon) \n",
    "        prices = read_tba_prices(tba_symbol, coupon)\n",
    "        for tba in tqdm(prices.columns):\n",
    "                end = prices[tba].dropna().index[0]\n",
    "                start = end - pd.offsets.BDay(5)\n",
    "                update = blp.bdh(tickers=tba, flds=[\"PX_MID\"], start_date=start, end_date=end, \n",
    "                        Per='D', calendarCodeOverride='US')\n",
    "\n",
    "                if not update.empty:\n",
    "                        update.index = pd.to_datetime(update.index)\n",
    "                        prices = prices.reindex(prices.index.union(update.index))\n",
    "                        prices.loc[update.index, tba] = update.iloc[:,0].values\n",
    "        output_dir = f\"MBS_DATA/{tba_symbol}/{coupon:.1f}\"\n",
    "        output_path = os.path.join(output_dir, \"prices.csv\")\n",
    "        prices.to_csv(output_path)"
   ]
  },
  {
   "cell_type": "markdown",
   "metadata": {},
   "source": [
    "## cash and carry"
   ]
  },
  {
   "cell_type": "code",
   "execution_count": 2,
   "metadata": {},
   "outputs": [],
   "source": [
    "def construct_long_format_price_table(tba_symbol, coupon_list):\n",
    "    \"\"\"\n",
    "    Construct a long-format table where each row corresponds to a price record,\n",
    "    indexed by Date, Coupon, TBA Month, and TBA Year.\n",
    "\n",
    "    :param tba_symbol: The TBA symbol (e.g., 'FNCL')\n",
    "    :param coupon_list: List of available coupons to read pricing data\n",
    "    :return: Pandas DataFrame in long format\n",
    "    \"\"\"\n",
    "    all_data = []\n",
    "\n",
    "    for coupon in coupon_list:\n",
    "        prices = read_tba_prices(tba_symbol, coupon)\n",
    "        if prices is None or prices.empty:\n",
    "            continue\n",
    "\n",
    "        # Iterate over the columns (each column corresponds to a different TBA)\n",
    "        for col in prices.columns:\n",
    "            parts = col.split(\" \")\n",
    "            if len(parts) < 3:\n",
    "                continue  # Skip malformed column names\n",
    "\n",
    "            tba_month, tba_year = parts[-2].split(\"/\")\n",
    "            tba_month = int(tba_month)  # Convert month to integer\n",
    "            tba_year = int(\"20\" + tba_year)  # Convert YY to YYYY\n",
    "\n",
    "            # Reshape the data\n",
    "            temp_df = prices[[col]].dropna().copy()\n",
    "            temp_df[\"Coupon\"] = coupon\n",
    "            temp_df[\"TBA Month\"] = tba_month\n",
    "            temp_df[\"TBA Year\"] = tba_year\n",
    "            temp_df.rename(columns={col: \"Price\"}, inplace=True)\n",
    "\n",
    "            # Reset index to make sure \"Date\" is explicitly a column\n",
    "            temp_df = temp_df.reset_index().rename(columns={\"index\": \"Date\"})\n",
    "\n",
    "            all_data.append(temp_df)\n",
    "\n",
    "    # Ensure we have data before concatenating\n",
    "    if not all_data:\n",
    "        return pd.DataFrame(columns=[\"Date\", \"Coupon\", \"TBA Month\", \"TBA Year\", \"Price\"])\n",
    "\n",
    "    # Combine all transformed data\n",
    "    final_table = pd.concat(all_data, ignore_index=True)\n",
    "\n",
    "    # Ensure all expected columns exist before sorting\n",
    "    required_columns = [\"Date\", \"Coupon\", \"TBA Year\", \"TBA Month\", \"Price\"]\n",
    "    for col in required_columns:\n",
    "        if col not in final_table.columns:\n",
    "            final_table[col] = None  # Add missing columns\n",
    "\n",
    "    # Sort for efficient lookups\n",
    "    final_table.sort_values(by=[\"Date\", \"Coupon\", \"TBA Year\", \"TBA Month\"], inplace=True)\n",
    "\n",
    "    return final_table\n",
    "\n",
    "def compute_mtg_rate(long_format_price_table, settle_dates):\n",
    "    \"\"\"\n",
    "    Compute the mortgage rate time series based on TBA prices closest to 100.\n",
    "\n",
    "    :param long_format_price_table: DataFrame containing Date, Coupon, TBA Month, TBA Year, and Price\n",
    "    :param settle_dates: Series mapping TBA contracts to their settlement dates\n",
    "    :return: Pandas Series with mortgage rates\n",
    "    \"\"\"\n",
    "    # Sort settlement dates for fast lookup\n",
    "    settle_dates = settle_dates.sort_values()\n",
    "    \n",
    "    # Extract unique trading dates from price data\n",
    "    trading_dates = long_format_price_table[\"Date\"].unique()\n",
    "    \n",
    "    mtg_rate_series = {}\n",
    "\n",
    "    for date in trading_dates:\n",
    "        # Determine the current TBA (first settlement date > date)\n",
    "        future_settles = settle_dates[settle_dates > date]\n",
    "        if future_settles.empty:\n",
    "            continue  # No future settlement means no valid TBA\n",
    "        \n",
    "        current_settle = future_settles.iloc[0]  # First occurring future settlement date\n",
    "\n",
    "        # Filter price data for this date and current TBA\n",
    "        mask = (\n",
    "            (long_format_price_table[\"Date\"] == date) &\n",
    "            (long_format_price_table[\"TBA Year\"] == current_settle.year) &\n",
    "            (long_format_price_table[\"TBA Month\"] == current_settle.month)\n",
    "        )\n",
    "        daily_prices = long_format_price_table[mask].copy()\n",
    "\n",
    "        if daily_prices.empty:\n",
    "            mtg_rate_series[date] = np.nan  # No prices available for this date\n",
    "            continue\n",
    "\n",
    "        # Find the coupon whose price is closest to 100\n",
    "        daily_prices[\"Price_Diff\"] = abs(daily_prices[\"Price\"] - 100)\n",
    "        min_diff = daily_prices[\"Price_Diff\"].min()\n",
    "\n",
    "        # Get all coupons that are closest to 100\n",
    "        closest_coupons = daily_prices[daily_prices[\"Price_Diff\"] == min_diff][\"Coupon\"]\n",
    "\n",
    "        # Compute the mortgage rate (average in case of ties)\n",
    "        mtg_rate_series[date] = closest_coupons.mean()\n",
    "\n",
    "    return pd.Series(mtg_rate_series, name=\"Mortgage Rate\").sort_index()\n",
    "\n",
    "def calculate_cpr_by_coupon(coupon):\n",
    "    return 0.05 + (coupon - 2.5) * (0.35 - 0.05) / (7 - 2.5)\n",
    "\n",
    "def calculate_cpr(coupon,mortgage_rate):\n",
    "    alpha=2.5\n",
    "    results=0.05+(0.45-0.05)*(1/(1+np.exp(-alpha*(coupon-mortgage_rate))))\n",
    "    return results*100\n"
   ]
  },
  {
   "cell_type": "code",
   "execution_count": 24,
   "metadata": {},
   "outputs": [],
   "source": [
    "def calculate_current_forward(date, principal, spot_price, coupon, repo_rate, yearly_cpr, roll_date):\n",
    "    \"\"\"\n",
    "    Calcule le prix forward pour le contrat current\n",
    "    \n",
    "    Args:\n",
    "        date (datetime): Date du calcul\n",
    "        principal (float): Principal (nominal) du MBS\n",
    "        spot_price (float): Prix spot\n",
    "        coupon (float): Taux du coupon en % (sera converti en décimal)\n",
    "        repo_rate (float): Taux repo en % (sera converti en décimal)\n",
    "        yearly_cpr (float): CPR annuel (taux de remboursement anticipé)\n",
    "        roll_date (int): Date de règlement dans le mois\n",
    "        \n",
    "    Returns:\n",
    "        float: Prix forward ajusté\n",
    "    \"\"\"\n",
    "    \n",
    "    coupon = coupon / 100\n",
    "    repo_rate = repo_rate / 100\n",
    "    delivery_month = date.month if date.day < roll_date else (date.month + 1 if date.month < 12 else 1)\n",
    "    delivery_year = date.year if delivery_month > 1 else date.year + 1\n",
    "    delivery_date = datetime(delivery_year, delivery_month, roll_date)\n",
    "    payment_date_current_month = datetime(date.year, date.month, 25)\n",
    "    \n",
    "    time_to_settlement_date = (delivery_date - date).days / 360\n",
    "    time_to_payment_date = max((payment_date_current_month - date).days / 360, 0)\n",
    "    accrued_time = max((delivery_date - payment_date_current_month).days / 360, 0)\n",
    "    spot_price = spot_price + coupon*accrued_time\n",
    "\n",
    "    if date > payment_date_current_month:\n",
    "        forward_price = spot_price / np.exp(-repo_rate * time_to_settlement_date)\n",
    "        adjusted_forward_price = forward_price\n",
    "    else:\n",
    "        discount_payment_date = np.exp(-repo_rate * time_to_payment_date)\n",
    "        discount_settlement_date = np.exp(-repo_rate * time_to_settlement_date)\n",
    "        next_notional = principal * (1 - (1 + coupon / 12) ** -359) / (1 - (1 + coupon / 12) ** -360)\n",
    "        scheduled_redemption = principal - next_notional\n",
    "        #print('################ current #################')\n",
    "        #print( 'principal', principal)\n",
    "        #print('next notional',next_notional)\n",
    "        unscheduled_redemption = next_notional * (1 - (1 - yearly_cpr) ** (1/12))\n",
    "        #print( 'Cpr',yearly_cpr)\n",
    "        #print('unscheduled redemption',unscheduled_redemption)\n",
    "        cashflow_redemption = scheduled_redemption + unscheduled_redemption\n",
    "        N1 = principal - cashflow_redemption\n",
    "        #print('cash flow with redemption', cashflow_redemption)\n",
    "        cashflow_coupon = principal * coupon / 12\n",
    "        #print( 'coupon', coupon)\n",
    "        cashflow_discounted_at_payment_date = (cashflow_coupon + cashflow_redemption) * discount_payment_date\n",
    "        \n",
    "        forward_price_payment_date = (spot_price - cashflow_discounted_at_payment_date) / discount_payment_date\n",
    "        #print( 'forward price at payment date',forward_price_payment_date)\n",
    "\n",
    "        cashflow_redemption_reinvested = (cashflow_redemption) * (1 - forward_price_payment_date/N1)\n",
    "        #print('cash flow with redemption reinvested', cashflow_redemption_reinvested)\n",
    "        cashflow_with_reinvested_redemption = (cashflow_coupon + cashflow_redemption_reinvested) * discount_payment_date\n",
    "\n",
    "    \n",
    "        forward_price_settlement_date_with_reinvested_redemption = (spot_price - cashflow_with_reinvested_redemption) / discount_settlement_date #- accrued\n",
    "        #print('cash flow reinvested ',cashflow_with_reinvested_redemption)\n",
    "\n",
    "        #print( 'forward price current ',forward_price_settlement_date_with_reinvested_redemption)\n",
    "        adjusted_forward_price = forward_price_settlement_date_with_reinvested_redemption\n",
    "\n",
    "    return adjusted_forward_price - principal*coupon*accrued_time\n",
    "\n",
    "\n",
    "def forward_mbs_price(\n",
    "    t, T, P_t, coupon, r, CPR, N0=1, MTG_MATURITY=360\n",
    "):\n",
    "    \"\"\"\n",
    "    Compute the forward price of an MBS bond.\n",
    "\n",
    "    :param t: Current date (datetime object)\n",
    "    :param T: Settlement date (datetime object)\n",
    "    :param P_t: Spot clean price at time t\n",
    "    :param coupon: Annual coupon rate (in decimal form, e.g., 0.04 for 4%)\n",
    "    :param r: Repo rate (simple, in decimal form)\n",
    "    :param CPR: Constant prepayment rate (decimal form)\n",
    "    :param N0: Initial balance (default = 100)\n",
    "    :param MTG_MATURITY: Remaining mortgage maturity in months (default = 360)\n",
    "    :return: Forward price F_{t,T}\n",
    "    \"\"\"\n",
    "    \n",
    "    # Monthly Coupon\n",
    "    CPN = coupon/100/ 12\n",
    "    P_t = P_t /100\n",
    "    r = r/100\n",
    "    CPR = CPR/100\n",
    "\n",
    "\n",
    "    # Determine previous and next coupon payment dates\n",
    "    prev_coupon_date = pd.Timestamp(year=t.year, month=t.month, day=25) - pd.DateOffset(months=1)\n",
    "    next_coupon_date = pd.Timestamp(year=t.year, month=t.month, day=25)\n",
    "\n",
    "    prev_coupon_date_T = pd.Timestamp(year=T.year, month=T.month, day=25) - pd.DateOffset(months=1)\n",
    "    next_coupon_date_T = pd.Timestamp(year=T.year, month=T.month, day=25)\n",
    "    \n",
    "    # Ensure next coupon date is strictly after t\n",
    "    if next_coupon_date <= t:\n",
    "        prev_coupon_date += pd.DateOffset(months=1)\n",
    "        next_coupon_date += pd.DateOffset(months=1)\n",
    "\n",
    "    # Accrued Interest\n",
    "    AI = CPN * ((t - prev_coupon_date).days / (next_coupon_date - prev_coupon_date).days)\n",
    "    AI_fwd = CPN * ((T - prev_coupon_date_T).days / (next_coupon_date_T - prev_coupon_date_T).days)\n",
    "    # Dirty Price\n",
    "    dirty_price = (P_t + AI)\n",
    "\n",
    "    # Financing Cost\n",
    "    financing_cost = dirty_price * r * ((T - t).days / 365)\n",
    "\n",
    "    # Determine next coupon payment date t1\n",
    "    t1 = next_coupon_date\n",
    "\n",
    "    # Compute N1_tilde (theoretical outstanding principal)\n",
    "    N1_tilde = N0 * (1 - (1 + CPN) ** -(MTG_MATURITY - 1)) / (1 - (1 + CPN) ** -MTG_MATURITY)\n",
    "\n",
    "    # Compute N1 (outstanding balance after prepayment)\n",
    "    N1 = N1_tilde * (1 - CPR) ** (1 / 12)\n",
    "\n",
    "    # Coupon Income\n",
    "    CF = N0 * (1 + CPN) - N1\n",
    "    coupon_income = CF * (1 + r * ((T - t1).days / 365))\n",
    "\n",
    "    # CPR Adjustment\n",
    "    notio = (N0-N1)*N0/N1\n",
    "    notio_after_redemption = (N0-N1)\n",
    "    cpr_adjustment =notio*dirty_price * (1 + r * ((T - t).days / 365))\n",
    "\n",
    "    # Forward Price Calculation\n",
    "    F_t_T = dirty_price + financing_cost - coupon_income*(N0 + notio) + cpr_adjustment - AI_fwd\n",
    "\n",
    "    return F_t_T*100\n",
    "\n",
    "\n",
    "def simple_forward_mbs_price(\n",
    "    t, T, P_t, coupon, r, CPR, N0=1, MTG_MATURITY=360\n",
    "):\n",
    "    \"\"\"\n",
    "    Compute the forward price of an MBS bond.\n",
    "\n",
    "    :param t: Current date (datetime object)\n",
    "    :param T: Settlement date (datetime object)\n",
    "    :param P_t: Spot clean price at time t\n",
    "    :param coupon: Annual coupon rate (in decimal form, e.g., 0.04 for 4%)\n",
    "    :param r: Repo rate (simple, in decimal form)\n",
    "    :param CPR: Constant prepayment rate (decimal form)\n",
    "    :param N0: Initial balance (default = 100)\n",
    "    :param MTG_MATURITY: Remaining mortgage maturity in months (default = 360)\n",
    "    :return: Forward price F_{t,T}\n",
    "    \"\"\"\n",
    "    \n",
    "    # Monthly Coupon\n",
    "    CPN = coupon/100/ 12\n",
    "    P_t = P_t /100\n",
    "    r = r/100\n",
    "    CPR = CPR/100\n",
    "\n",
    "\n",
    "    # Determine previous and next coupon payment dates\n",
    "    prev_coupon_date = pd.Timestamp(year=t.year, month=t.month, day=25) - pd.DateOffset(months=1)\n",
    "    next_coupon_date = pd.Timestamp(year=t.year, month=t.month, day=25)\n",
    "\n",
    "    prev_coupon_date_T = pd.Timestamp(year=T.year, month=T.month, day=25) - pd.DateOffset(months=1)\n",
    "    next_coupon_date_T = pd.Timestamp(year=T.year, month=T.month, day=25)\n",
    "    \n",
    "    # Ensure next coupon date is strictly after t\n",
    "    if next_coupon_date <= t:\n",
    "        prev_coupon_date += pd.DateOffset(months=1)\n",
    "        next_coupon_date += pd.DateOffset(months=1)\n",
    "\n",
    "    # Accrued Interest\n",
    "    AI = CPN * ((t - prev_coupon_date).days / (next_coupon_date - prev_coupon_date).days)\n",
    "    AI_fwd = CPN * ((T - prev_coupon_date_T).days / (next_coupon_date_T - prev_coupon_date_T).days)\n",
    "    # Dirty Price\n",
    "    dirty_price = (P_t + AI)\n",
    "\n",
    "    # Financing Cost\n",
    "    financing_cost = dirty_price * r * ((T - t).days / 365)\n",
    "\n",
    "    # Determine next coupon payment date t1\n",
    "    t1 = next_coupon_date\n",
    "\n",
    "    # Compute N1_tilde (theoretical outstanding principal)\n",
    "    N1_tilde = N0 * (1 - (1 + CPN) ** -(MTG_MATURITY - 1)) / (1 - (1 + CPN) ** -MTG_MATURITY)\n",
    "\n",
    "    # Compute N1 (outstanding balance after prepayment)\n",
    "    N1 = N1_tilde * (1 - CPR) ** (1 / 12)\n",
    "\n",
    "    # Coupon Income\n",
    "    CF = N0 * (1 + CPN) - N1\n",
    "    coupon_income = CF * (1 + r * ((T - t1).days / 365))\n",
    "\n",
    "    # Forward Price Calculation\n",
    "    F_t_T = dirty_price + financing_cost - coupon_income\n",
    "     \n",
    "    F_t_T = (N0/N1*F_t_T)\n",
    "    return (F_t_T - AI_fwd)*100\n",
    "\n",
    "def compute_forward_mbs_prices(tba_symbol, coupon_list, repo_rate, cprs, s=4):\n",
    "    \"\"\"\n",
    "    Compute forward MBS prices for each coupon using market expectations before settlement.\n",
    "\n",
    "    :param tba_symbol: The TBA symbol (e.g., 'FNCL')\n",
    "    :param coupon_list: List of available coupons\n",
    "    :param repo_rate: Pandas Series of repo rates indexed by date\n",
    "    :return: DataFrame with forward prices (dates as index, coupons as columns)\n",
    "    \"\"\"\n",
    "    s = -(s+1)\n",
    "    trading_days = repo_rate.index.to_series()\n",
    "    # Read settlement dates\n",
    "    settle_dates = read_settle_dates(tba_symbol)\n",
    "    # Initialize DataFrame to store forward prices\n",
    "    basis_tab = pd.DataFrame()\n",
    "    cpr_tab = pd.DataFrame()\n",
    "    \n",
    "    for coupon in coupon_list:\n",
    "        # Read TBA price data for this coupon\n",
    "        prices = read_tba_prices(tba_symbol, coupon)\n",
    "        if prices is None or prices.empty:\n",
    "            print(f\"Skipping coupon {coupon}: No price data available.\")\n",
    "            continue\n",
    "        \n",
    "        # Initialize list to store results for this coupon\n",
    "        coupon_prices = []\n",
    "        \n",
    "        for i in range(len(settle_dates) - 1):  # Ensure we have a next settlement date\n",
    "            ts = settle_dates.iloc[i]  # Current settlement date\n",
    "            if ts  not in trading_days : continue \n",
    "            \n",
    "            ts_next = settle_dates.iloc[i + 1]  # Next settlement date\n",
    "            \n",
    "            # Get s trading days before ts\n",
    "            prior_dates = trading_days.loc[:ts].index[s:-1]\n",
    "\n",
    "            # Compute forward price for each prior date\n",
    "            for date in prior_dates:\n",
    "                if date not in prices.index : \n",
    "                    continue\n",
    "                \n",
    "                P_t = prices.loc[date].get(f\"{tba_symbol} {coupon} {ts.strftime('%m/%y')} Mtge\", np.nan)\n",
    "                P_next = prices.loc[date].get(f\"{tba_symbol} {coupon} {ts_next.strftime('%m/%y')} Mtge\", np.nan)\n",
    "                r = repo_rate.get(date, np.nan)\n",
    "                if np.isnan(P_t) or np.isnan(r) or ts_next not in cprs.index:\n",
    "                    fwd_price = np.nan  # If missing data, fill with NaN\n",
    "                    CPR = np.nan\n",
    "                else:\n",
    "                    #CPR = calculate_cpr(coupon, mtg)\n",
    "                    CPR = cprs.loc[ts_next, coupon]\n",
    "                    fwd_price = forward_mbs_price(ts, ts_next, P_t, coupon, r, CPR=CPR)\n",
    "                \n",
    "                coupon_prices.append(\n",
    "                    {\"Date\": date, \n",
    "                     \"Coupon\": coupon,\n",
    "                     \"cpr\" : CPR, \n",
    "                     \"basis\": fwd_price - P_next\n",
    "                     })\n",
    "    \n",
    "        # Convert list to DataFrame and pivot\n",
    "        coupon_prices = pd.DataFrame(coupon_prices)\n",
    "        coupon_df_cpr = coupon_prices.pivot(index=\"Date\", columns=\"Coupon\", values=\"cpr\")\n",
    "        coupon_df_basis =coupon_prices.pivot(index=\"Date\", columns=\"Coupon\", values=\"basis\")    \n",
    "        # Merge into final DataFrame\n",
    "        cpr_tab = cpr_tab.join(coupon_df_cpr, how='outer') if not cpr_tab.empty else coupon_df_cpr\n",
    "        basis_tab = basis_tab.join(coupon_df_basis, how='outer') if not basis_tab.empty else coupon_df_basis\n",
    "    \n",
    "    return cpr_tab, basis_tab\n",
    "\n"
   ]
  },
  {
   "cell_type": "markdown",
   "metadata": {},
   "source": [
    "## launch"
   ]
  },
  {
   "cell_type": "code",
   "execution_count": 95,
   "metadata": {},
   "outputs": [],
   "source": [
    "\n",
    "tba_symbol = \"G2SF\"\n",
    "ALL_CPNS = np.arange(2.5, 7.5, 0.5)\n",
    "coupon_list = ALL_CPNS\n",
    "repo_rate = pd.read_csv('MBS_DATA/repo_ffund.csv', index_col=0, parse_dates=True).iloc[:,0]\n",
    "cprs = pd.read_csv(f\"MBS_DATA/{tba_symbol}/cprs.csv\", index_col=0, parse_dates=True)\n",
    "cprs.columns = cprs.columns.map(float)\n",
    "\n",
    "cpr_tab, basis_tab = compute_forward_mbs_prices(tba_symbol, ALL_CPNS, repo_rate, cprs, s=2)\n",
    "basis_tab_grouped = basis_tab.groupby(by = lambda x: x+pd.DateOffset(day=13)).mean().dropna(how='all')\n",
    "basis_tab_filtered = basis_tab_grouped.where(basis_tab_grouped <= 0, np.nan)"
   ]
  },
  {
   "cell_type": "code",
   "execution_count": null,
   "metadata": {},
   "outputs": [
    {
     "data": {
      "text/plain": [
       "count    165.000000\n",
       "mean      -0.130432\n",
       "std        0.203584\n",
       "min       -2.164650\n",
       "25%       -0.141197\n",
       "50%       -0.094285\n",
       "75%       -0.051850\n",
       "max       -0.001013\n",
       "dtype: float64"
      ]
     },
     "metadata": {},
     "output_type": "display_data"
    },
    {
     "data": {
      "text/plain": [
       "<Axes: xlabel='Date'>"
      ]
     },
     "execution_count": 96,
     "metadata": {},
     "output_type": "execute_result"
    },
    {
     "data": {
      "image/png": "[encoded data removed]",
      "text/plain": [
       "<Figure size 640x480 with 1 Axes>"
      ]
     },
     "metadata": {},
     "output_type": "display_data"
    },
    {
     "ename": "",
     "evalue": "",
     "output_type": "error",
     "traceback": [
      "\u001b[1;31mThe Kernel crashed while executing code in the current cell or a previous cell. \n",
      "\u001b[1;31mPlease review the code in the cell(s) to identify a possible cause of the failure. \n",
      "\u001b[1;31mClick <a href='https://aka.ms/vscodeJupyterKernelCrash'>here</a> for more info. \n",
      "\u001b[1;31mView Jupyter <a href='command:jupyter.viewOutput'>log</a> for further details."
     ]
    }
   ],
   "source": [
    "start_date = pd.to_datetime('01/01/2010')\n",
    "display(basis_tab_filtered.mean(axis=1).loc[start_date:].describe())\n",
    "(-basis_tab_filtered).mean(axis=1).loc[start_date:].cumsum().plot(marker='.')"
   ]
  },
  {
   "cell_type": "markdown",
   "metadata": {},
   "source": [
    "## debug"
   ]
  },
  {
   "cell_type": "code",
   "execution_count": 91,
   "metadata": {},
   "outputs": [],
   "source": [
    "coupon = 5\n",
    "r = 0\n",
    "set_date_1 = pd.to_datetime('01/13/2024')\n",
    "set_date_2 = pd.to_datetime('02/13/2024')\n",
    "spot_price = 100\n",
    "yearly_cpr = 10\n",
    "roll_date = 13\n"
   ]
  },
  {
   "cell_type": "code",
   "execution_count": 92,
   "metadata": {},
   "outputs": [],
   "source": [
    "Y = np.arange(0,60,1)\n",
    "samy = [100*calculate_current_forward(set_date_1, 1, spot_price/100, coupon, r, y/100, roll_date)\n",
    "        for y in Y]"
   ]
  },
  {
   "cell_type": "code",
   "execution_count": 93,
   "metadata": {},
   "outputs": [],
   "source": [
    "me = [forward_mbs_price(\n",
    "    set_date_1, set_date_2, spot_price, coupon, r, y\n",
    ") for y in Y]"
   ]
  },
  {
   "cell_type": "code",
   "execution_count": 94,
   "metadata": {},
   "outputs": [
    {
     "data": {
      "text/plain": [
       "<matplotlib.legend.Legend at 0x18564ce6e10>"
      ]
     },
     "execution_count": 94,
     "metadata": {},
     "output_type": "execute_result"
    },
    {
     "data": {
      "image/png": "[encoded data removed]",
      "text/plain": [
       "<Figure size 640x480 with 1 Axes>"
      ]
     },
     "metadata": {},
     "output_type": "display_data"
    }
   ],
   "source": [
    "from matplotlib import pyplot as plt\n",
    "\n",
    "plt.plot(Y, me, label='me')\n",
    "plt.plot(Y, samy, label='samy')\n",
    "plt.legend()"
   ]
  },
  {
   "cell_type": "code",
   "execution_count": null,
   "metadata": {},
   "outputs": [],
   "source": []
  }
 ],
 "metadata": {
  "kernelspec": {
   "display_name": "global",
   "language": "python",
   "name": "python3"
  },
  "language_info": {
   "codemirror_mode": {
    "name": "ipython",
    "version": 3
   },
   "file_extension": ".py",
   "mimetype": "text/x-python",
   "name": "python",
   "nbconvert_exporter": "python",
   "pygments_lexer": "ipython3",
   "version": "3.12.8"
  }
 },
 "nbformat": 4,
 "nbformat_minor": 2
}
