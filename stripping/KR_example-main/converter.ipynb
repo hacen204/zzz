{
 "cells": [
  {
   "cell_type": "code",
   "execution_count": 96,
   "metadata": {},
   "outputs": [],
   "source": [
    "dic = {\n",
    "    'ham': '=',\n",
    "    'homer': '==',\n",
    "    'hip': '+',\n",
    "    'hit': '<',\n",
    "    'how' : '>',\n",
    "    'hum': '[',\n",
    "    'his': ']',\n",
    "    'hue': '{',\n",
    "    'hop': '}',\n",
    "    'hid': 'plt',\n",
    "    'hub': 'blp',\n",
    "    'hot': 'col',\n",
    "    'dot': '.',\n",
    "    'next line': '\\n',\n",
    "    'double crochet': '\"',\n",
    "    'crochet'  : \"'\",\n",
    "    'dash' : '-',\n",
    "    'hyphen': '_',\n",
    "    'comma': ','\n",
    "}\n"
   ]
  },
  {
   "cell_type": "code",
   "execution_count": 97,
   "metadata": {},
   "outputs": [],
   "source": [
    "file = open('txt.txt', 'r')\n",
    "content = file.read()\n",
    "file.close()\n",
    "content = content.replace('\\n', ' ')\n",
    "\n",
    "for s in dic.keys():\n",
    "    content = content.replace(f' {s} ', dic[s])\n",
    "    content = content.replace(f'{s} ', dic[s])\n",
    "    content = content.replace(f' {s}', dic[s])\n",
    "    content = content.replace(f'{s}', dic[s])\n",
    "\n",
    "content = content.split('\\n')"
   ]
  },
  {
   "cell_type": "code",
   "execution_count": 98,
   "metadata": {},
   "outputs": [],
   "source": [
    "for j, line in enumerate(content):\n",
    "    line = line.strip(' ')\n",
    "    if line[2:8] == 'spaces' :\n",
    "        i = int(line[0])\n",
    "        line = i*' ' + line[8:].strip(' ')  \n",
    "\n",
    "    if line[3:9] == 'spaces' :\n",
    "        i = int(line[:2])\n",
    "        line = i*' ' + line[9:].strip(' ')  \n",
    "    content[j] = line      "
   ]
  },
  {
   "cell_type": "code",
   "execution_count": 99,
   "metadata": {},
   "outputs": [],
   "source": [
    "content = '\\n'.join(content)"
   ]
  },
  {
   "cell_type": "code",
   "execution_count": 100,
   "metadata": {},
   "outputs": [
    {
     "name": "stdout",
     "output_type": "stream",
     "text": [
      "def update_tab(path,tickers,flds,tickers_mapping,debut=None,last_date=None,dr='US'):\n",
      "\n",
      "    # t]function updates data up to yesterday closing\n",
      "\n",
      "\n",
      "    # updating some series stored in path\n",
      "    print(f\"updating{path}\")\n",
      "\n",
      "    today=pd.Timestamp.today()+pd.offsets.BDay(Â®,normalize=True)\n",
      "    df=pd.read_csv(path,index_col=0,parse_dates=True)\n",
      "\n",
      "    # last correct date in the data\n",
      "    # if none sets to day_before_yesterday\n",
      "    if last_date is not None:\n",
      "        #last_date=min(last_date,today-pd.offsets.BDay())\n",
      "        df=df.loc[:last_date]\n",
      "    else:\n",
      "        last_date=df.index[-2]\n",
      "        df=df.loc[:last_date]\n",
      "\n",
      "\n",
      "    debut=df.index[-1]+pd.offsets.Day()\n",
      "    end=today-pd.offsets.Day)\n",
      "\n",
      "    if debut>end:\n",
      "        print'nothing to update')\n",
      "        return None\n",
      "    update=blp.bah(tickers=tickers,flds=flds,\n",
      "                    start_date=debut,end_date=end,Per='D',calendarCodeOverride=cdr) # type: ignore\n",
      "\n",
      "    update=update.droplevel(level=1,axis=1)\n",
      "    update.columns=tickers_mapping.loc[update.columns]\n",
      "    df=pd.concat ( (df,update),axis=0)\n",
      "    df.index=df.index.to_series().apply(pd.to_datetime) # type: ignore\n",
      "    df.to_csv(path)\n"
     ]
    }
   ],
   "source": [
    "print(content)"
   ]
  },
  {
   "cell_type": "code",
   "execution_count": 95,
   "metadata": {},
   "outputs": [],
   "source": [
    "output = open('output.txt', \"w\")\n",
    "output.write(content)\n",
    "output.close()"
   ]
  },
  {
   "cell_type": "code",
   "execution_count": null,
   "metadata": {},
   "outputs": [],
   "source": []
  }
 ],
 "metadata": {
  "kernelspec": {
   "display_name": "Python 3",
   "language": "python",
   "name": "python3"
  },
  "language_info": {
   "codemirror_mode": {
    "name": "ipython",
    "version": 3
   },
   "file_extension": ".py",
   "mimetype": "text/x-python",
   "name": "python",
   "nbconvert_exporter": "python",
   "pygments_lexer": "ipython3",
   "version": "3.6.8"
  }
 },
 "nbformat": 4,
 "nbformat_minor": 2
}
